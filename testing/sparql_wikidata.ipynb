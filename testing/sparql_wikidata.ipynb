{
 "cells": [
  {
   "cell_type": "code",
   "execution_count": 1,
   "metadata": {},
   "outputs": [],
   "source": [
    "from SPARQLWrapper import SPARQLWrapper, JSON\n",
    "from datetime import datetime"
   ]
  },
  {
   "cell_type": "code",
   "execution_count": 2,
   "metadata": {},
   "outputs": [
    {
     "name": "stdout",
     "output_type": "stream",
     "text": [
      "Birth Date: 1922-05-13T00:00:00Z, Death Date: 2009-04-25T00:00:00Z\n"
     ]
    }
   ],
   "source": [
    "\n",
    "# Set up the SPARQL endpoint\n",
    "sparql = SPARQLWrapper(\"https://query.wikidata.org/sparql\")\n",
    "\n",
    "# Define the SPARQL query\n",
    "query = \"\"\"\n",
    "SELECT ?birthDate ?deathDate\n",
    "WHERE {\n",
    "  wd:Q138576 wdt:P569 ?birthDate.\n",
    "  wd:Q138576 wdt:P570 ?deathDate.\n",
    "}\n",
    "\"\"\"\n",
    "\n",
    "# Set the query and the return format\n",
    "sparql.setQuery(query)\n",
    "sparql.setReturnFormat(JSON)\n",
    "\n",
    "# Execute the query and convert the response to JSON\n",
    "results = sparql.query().convert()\n",
    "\n",
    "# Print the results\n",
    "for result in results[\"results\"][\"bindings\"]:\n",
    "    birthDate = result[\"birthDate\"][\"value\"]\n",
    "    deathDate = result[\"deathDate\"][\"value\"]\n",
    "    print(f\"Birth Date: {birthDate}, Death Date: {deathDate}\")\n"
   ]
  },
  {
   "cell_type": "markdown",
   "metadata": {},
   "source": [
    "## Converted Version of Current API Based"
   ]
  },
  {
   "cell_type": "code",
   "execution_count": 5,
   "metadata": {},
   "outputs": [],
   "source": [
    "def get_birth_death_date_sparql(entity_id):\n",
    "    \"\"\"Fetches the birth and/or death dates of a given entity from Wikidata using SPARQL.\n",
    "    \n",
    "    Args:\n",
    "        entity_id (str): Wikidata entity ID.\n",
    "    \n",
    "    Returns:\n",
    "        tuple: A tuple containing the birth date and death date as datetime objects or None.\n",
    "    \"\"\"\n",
    "    sparql = SPARQLWrapper(\"https://query.wikidata.org/sparql\")\n",
    "    \n",
    "    # Updated query to optionally match birth and death dates\n",
    "    query = f\"\"\"\n",
    "    SELECT ?birthDate ?deathDate\n",
    "    WHERE {{\n",
    "      OPTIONAL {{ wd:{entity_id} wdt:P569 ?birthDate. }}\n",
    "      OPTIONAL {{ wd:{entity_id} wdt:P570 ?deathDate. }}\n",
    "    }}\n",
    "    \"\"\"\n",
    "    \n",
    "    sparql.setQuery(query)\n",
    "    sparql.setReturnFormat(JSON)\n",
    "    \n",
    "    results = sparql.query().convert()\n",
    "    \n",
    "    birth_date, death_date = None, None\n",
    "    \n",
    "    for result in results[\"results\"][\"bindings\"]:\n",
    "        if 'birthDate' in result:\n",
    "            birth_date_str = result['birthDate']['value']\n",
    "            birth_date = datetime.strptime(birth_date_str, \"%Y-%m-%dT%H:%M:%SZ\")\n",
    "        if 'deathDate' in result:\n",
    "            death_date_str = result['deathDate']['value']\n",
    "            death_date = datetime.strptime(death_date_str, \"%Y-%m-%dT%H:%M:%SZ\")\n",
    "    \n",
    "    return birth_date, death_date\n"
   ]
  },
  {
   "cell_type": "code",
   "execution_count": 6,
   "metadata": {},
   "outputs": [
    {
     "name": "stdout",
     "output_type": "stream",
     "text": [
      "Birth Date: 1942-04-03 00:00:00, Death Date: None\n"
     ]
    }
   ],
   "source": [
    "# Example usage\n",
    "entity_id = 'Q552806'  # Testing with the problematic ID\n",
    "birth_date, death_date = get_birth_death_date_sparql(entity_id)\n",
    "print(f\"Birth Date: {birth_date}, Death Date: {death_date}\")"
   ]
  },
  {
   "cell_type": "markdown",
   "metadata": {},
   "source": []
  }
 ],
 "metadata": {
  "kernelspec": {
   "display_name": "venv",
   "language": "python",
   "name": "python3"
  },
  "language_info": {
   "codemirror_mode": {
    "name": "ipython",
    "version": 3
   },
   "file_extension": ".py",
   "mimetype": "text/x-python",
   "name": "python",
   "nbconvert_exporter": "python",
   "pygments_lexer": "ipython3",
   "version": "3.11.7"
  }
 },
 "nbformat": 4,
 "nbformat_minor": 2
}
