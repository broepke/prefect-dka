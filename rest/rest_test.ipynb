{
 "cells": [
  {
   "cell_type": "markdown",
   "metadata": {},
   "source": [
    "# Prefect REST API Testing"
   ]
  },
  {
   "cell_type": "code",
   "execution_count": 1,
   "metadata": {},
   "outputs": [],
   "source": [
    "import os\n",
    "import requests\n",
    "import httpx"
   ]
  },
  {
   "cell_type": "code",
   "execution_count": 2,
   "metadata": {},
   "outputs": [],
   "source": [
    "PREFECT_API_URL = os.environ.get(\"PREFECT_API_URL\")\n",
    "PREFECT_API_KEY = os.environ.get(\"PREFECT_API_KEY\")"
   ]
  },
  {
   "cell_type": "code",
   "execution_count": 3,
   "metadata": {},
   "outputs": [
    {
     "name": "stdout",
     "output_type": "stream",
     "text": [
      "200\n",
      "[]\n"
     ]
    }
   ],
   "source": [
    "PREFECT_API_URL=PREFECT_API_URL\n",
    "PREFECT_API_KEY=PREFECT_API_KEY\n",
    "data = {\n",
    "    \"sort\": \"CREATED_DESC\",\n",
    "    \"limit\": 5,\n",
    "    \"artifacts\": {\n",
    "        \"key\": {\n",
    "            \"exists_\": True\n",
    "        }\n",
    "    }\n",
    "}\n",
    "\n",
    "headers = {\"Authorization\": f\"Bearer {PREFECT_API_KEY}\"}\n",
    "endpoint = f\"{PREFECT_API_URL}/artifacts/filter\"\n",
    "\n",
    "response = requests.post(endpoint, headers=headers, json=data)\n",
    "# assert response.status_code == 200\n",
    "print(response.status_code)\n",
    "print(response.json())\n",
    "for artifact in response.json():\n",
    "    print(artifact)\n"
   ]
  },
  {
   "cell_type": "markdown",
   "metadata": {},
   "source": [
    "## Create a Flow Run Job"
   ]
  },
  {
   "cell_type": "code",
   "execution_count": 4,
   "metadata": {},
   "outputs": [],
   "source": [
    "api_url = os.getenv('PREFECT_API_URL')\n",
    "headers = {\n",
    "  \"Authorization\": f\"Bearer {os.getenv('PREFECT_API_KEY')}\"\n",
    "}\n",
    "payload = {\n",
    "  \"name\": \"manual-api-trigger\", # not required\n",
    "  #\"parameters\": {} only required if your flow needs params\n",
    "}\n",
    "deployment_id = \"03afc585-c196-4bfd-aa32-982876952c03\"\n",
    "\n",
    "async with httpx.AsyncClient() as client:\n",
    "  response = await client.post(\n",
    "    f\"{api_url}/deployments/{deployment_id}/create_flow_run\",\n",
    "    headers=headers,\n",
    "    json=payload\n",
    "  )\n",
    "  response.raise_for_status()"
   ]
  },
  {
   "cell_type": "code",
   "execution_count": null,
   "metadata": {},
   "outputs": [],
   "source": []
  }
 ],
 "metadata": {
  "kernelspec": {
   "display_name": "venv",
   "language": "python",
   "name": "python3"
  },
  "language_info": {
   "codemirror_mode": {
    "name": "ipython",
    "version": 3
   },
   "file_extension": ".py",
   "mimetype": "text/x-python",
   "name": "python",
   "nbconvert_exporter": "python",
   "pygments_lexer": "ipython3",
   "version": "3.11.6"
  }
 },
 "nbformat": 4,
 "nbformat_minor": 2
}
